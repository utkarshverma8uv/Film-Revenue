{
 "cells": [
  {
   "cell_type": "code",
   "execution_count": 11,
   "metadata": {},
   "outputs": [],
   "source": [
    "import pandas as pd\n",
    "import numpy as np\n",
    "import matplotlib.pyplot as plt\n",
    "%matplotlib inline\n",
    "import seaborn as sns\n",
    "import math\n",
    "# import ML related packages of sklearn\n",
    "from sklearn.model_selection import train_test_split\n",
    "from sklearn.linear_model import LinearRegression\n",
    "from sklearn.model_selection import cross_val_score\n",
    "from sklearn.metrics import r2_score\n",
    "from sklearn.preprocessing import StandardScaler\n",
    "scaler = StandardScaler()"
   ]
  },
  {
   "cell_type": "code",
   "execution_count": 2,
   "metadata": {},
   "outputs": [],
   "source": [
    "d=pd.read_csv('cleaned.csv')\n",
    "x = d[['adult', 'belongs_to_collection', 'budget', 'genres',\n",
    "       'original_language', 'popularity', 'production_companies',\n",
    "       'production_countries', 'release_date', 'runtime',\n",
    "       'spoken_languages', 'vote_average', 'vote_count']]\n",
    "y = d['revenue']"
   ]
  },
  {
   "cell_type": "code",
   "execution_count": 3,
   "metadata": {},
   "outputs": [],
   "source": [
    "def lin_reg(x,y):\n",
    "    x_train, x_test, y_train, y_test = train_test_split(x, y, test_size=0.2, random_state=42)\n",
    "    x_train=scaler.fit_transform(x_train)\n",
    "    x_test=scaler.transform(x_test)\n",
    "    rg = LinearRegression()\n",
    "    modl = rg.fit(x_train,y_train)\n",
    "    tpred = rg.predict(x_train)\n",
    "    tr_squared = r2_score(y_train, tpred)\n",
    "    pred = modl.predict(x_test)\n",
    "    r_squared = r2_score(y_test, pred)\n",
    "    print('\\nLinear R Squared(train & test) : ', tr_squared, r_squared)"
   ]
  },
  {
   "cell_type": "code",
   "execution_count": 13,
   "metadata": {},
   "outputs": [],
   "source": [
    "from sklearn.model_selection import GridSearchCV\n",
    "from sklearn.linear_model import Ridge\n",
    "def rg_reg(x,y,a):\n",
    "    x_train, x_test, y_train, y_test = train_test_split(x, y, test_size=0.2, random_state=42)\n",
    "    x_train=scaler.fit_transform(x_train)\n",
    "    x_test=scaler.transform(x_test)\n",
    "    rg = Ridge()\n",
    "    parameter = {'alpha' : a}\n",
    "    rg = GridSearchCV(rg, parameter, scoring = 'neg_mean_squared_error', cv=5)  \n",
    "    modl = rg.fit(x_train,y_train)\n",
    "    tr_squared = rg.best_score_\n",
    "    a = rg.best_params_\n",
    "    pred = modl.predict(x_test)\n",
    "    r_squared = r2_score(y_test, pred)\n",
    "    print('\\nRidge R Squared(train & test) : ', tr_squared, r_squared, a)"
   ]
  },
  {
   "cell_type": "code",
   "execution_count": 5,
   "metadata": {},
   "outputs": [],
   "source": [
    "from sklearn.linear_model import Lasso\n",
    "def ls_reg(x,y,a):\n",
    "    x_train, x_test, y_train, y_test = train_test_split(x, y, test_size=0.2, random_state=42)\n",
    "    x_train=scaler.fit_transform(x_train)\n",
    "    x_test=scaler.transform(x_test)\n",
    "    rg = Lasso(alpha = a)\n",
    "    modl = rg.fit(x_train,y_train)\n",
    "    tpred = modl.predict(x_train)\n",
    "    tr_squared = r2_score(y_train, tpred)\n",
    "    pred = modl.predict(x_test)\n",
    "    r_squared = r2_score(y_test, pred)\n",
    "    print('\\nLasso R Squared(train & test) : ', tr_squared, r_squared)"
   ]
  },
  {
   "cell_type": "code",
   "execution_count": 6,
   "metadata": {},
   "outputs": [],
   "source": [
    "from sklearn.neighbors import KNeighborsRegressor\n",
    "def knn(x,y,a):\n",
    "    x_train, x_test, y_train, y_test = train_test_split(x, y, test_size=0.2, random_state=42)\n",
    "    x_train=scaler.fit_transform(x_train)\n",
    "    x_test=scaler.transform(x_test)\n",
    "    rg = KNeighborsRegressor()\n",
    "    parameter = {'n_neighbors' : a}\n",
    "    rg = GridSearchCV(rg, parameter, scoring = 'neg_mean_squared_error', cv=10)\n",
    "    modl = rg.fit(x_train,y_train)\n",
    "    tpred = modl.predict(x_train)\n",
    "    tr_squared = r2_score(y_train, tpred)\n",
    "    a = rg.best_params_\n",
    "    pred = modl.predict(x_test)\n",
    "    r_squared = r2_score(y_test, pred)\n",
    "    print('\\nKNN R Squared(train & test) : ', tr_squared, r_squared, a )"
   ]
  },
  {
   "cell_type": "code",
   "execution_count": 7,
   "metadata": {},
   "outputs": [],
   "source": [
    "from xgboost import XGBRegressor as xgbr\n",
    "from sklearn.metrics import mean_squared_error as MSE\n",
    "def xb(x,y):\n",
    "    x_train, x_test, y_train, y_test = train_test_split(x, y, test_size=0.2, random_state=42)\n",
    "    x_train=scaler.fit_transform(x_train)\n",
    "    x_test=scaler.transform(x_test)\n",
    "    xg = xgbr(objective ='reg:linear', n_estimators = 233, seed = 42, verbosity = 0)\n",
    "    xg.fit(x_train, y_train)\n",
    "    tpred = xg.predict(x_test)\n",
    "    rmse = np.sqrt(MSE(y_test, tpred))\n",
    "    pred = xg.predict(x_test)\n",
    "    r_squared = r2_score(y_test, pred)\n",
    "    print('\\nXGB R Squared(train & test) : ', rmse, r_squared)"
   ]
  },
  {
   "cell_type": "code",
   "execution_count": 14,
   "metadata": {},
   "outputs": [
    {
     "name": "stdout",
     "output_type": "stream",
     "text": [
      "\n",
      "Linear R Squared(train & test) :  0.741040077511971 0.7161161705123373\n",
      "\n",
      "Ridge R Squared(train & test) :  -5375628393360183.0 0.7140127098281148 {'alpha': 100}\n",
      "\n",
      "Lasso R Squared(train & test) :  0.741040077511971 0.7161161703669944\n",
      "\n",
      "KNN R Squared(train & test) :  0.8030796255856893 0.7295638009179963 {'n_neighbors': 7}\n",
      "\n",
      "XGB R Squared(train & test) :  72824537.65029554 0.7968153174967331\n"
     ]
    }
   ],
   "source": [
    "lin_reg(x,y)\n",
    "rg_reg(x,y,[0.01,0.1,1,10,100,1000])\n",
    "ls_reg(x,y,0.1)\n",
    "knn(x,y,[1,2,3,4,5,6,7,8])\n",
    "xb(x,y)"
   ]
  },
  {
   "cell_type": "code",
   "execution_count": 3,
   "metadata": {},
   "outputs": [],
   "source": [
    "# split the data as train and test\n",
    "x_train, x_test, y_train, y_test = train_test_split(x, y, test_size=0.2, random_state=42)"
   ]
  },
  {
   "cell_type": "code",
   "execution_count": 4,
   "metadata": {},
   "outputs": [
    {
     "name": "stdout",
     "output_type": "stream",
     "text": [
      "0.7161161704592646\n"
     ]
    }
   ],
   "source": [
    "lr = LinearRegression()\n",
    "modl = lr.fit(x_train,y_train)\n",
    "pred = modl.predict(x_test)\n",
    "score = modl.score(x_test, y_test)\n",
    "print(score)"
   ]
  },
  {
   "cell_type": "code",
   "execution_count": 65,
   "metadata": {},
   "outputs": [
    {
     "data": {
      "text/plain": [
       "array([0.53194644, 0.73013687, 0.77078387, 0.76539571, 0.75046103])"
      ]
     },
     "execution_count": 65,
     "metadata": {},
     "output_type": "execute_result"
    }
   ],
   "source": [
    "cross_val_score(lr,x,y)"
   ]
  }
 ],
 "metadata": {
  "kernelspec": {
   "display_name": "hows_the_jose",
   "language": "python",
   "name": "python3"
  },
  "language_info": {
   "codemirror_mode": {
    "name": "ipython",
    "version": 3
   },
   "file_extension": ".py",
   "mimetype": "text/x-python",
   "name": "python",
   "nbconvert_exporter": "python",
   "pygments_lexer": "ipython3",
   "version": "3.11.4"
  },
  "orig_nbformat": 4
 },
 "nbformat": 4,
 "nbformat_minor": 2
}
