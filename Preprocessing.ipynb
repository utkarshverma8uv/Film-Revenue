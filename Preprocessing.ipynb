{
 "cells": [
  {
   "cell_type": "code",
   "execution_count": 38,
   "metadata": {},
   "outputs": [],
   "source": [
    "import pandas as pd\n",
    "import numpy as np\n",
    "import matplotlib.pyplot as plt\n",
    "%matplotlib inline\n",
    "import seaborn as sns\n",
    "from sklearn import preprocessing\n",
    "\n",
    "## Display all the columns of the dataframe\n",
    "pd.pandas.set_option('display.max_columns',None)"
   ]
  },
  {
   "cell_type": "code",
   "execution_count": 39,
   "metadata": {},
   "outputs": [
    {
     "name": "stderr",
     "output_type": "stream",
     "text": [
      "C:\\Users\\Utkarsh\\AppData\\Local\\Temp\\ipykernel_40448\\2204492763.py:1: DtypeWarning: Columns (10) have mixed types. Specify dtype option on import or set low_memory=False.\n",
      "  d=pd.read_csv('movies_metadata.csv')\n"
     ]
    }
   ],
   "source": [
    "d=pd.read_csv('movies_metadata.csv')\n",
    "n = d.shape[0]\n",
    "m = d.shape[1]"
   ]
  },
  {
   "cell_type": "code",
   "execution_count": 40,
   "metadata": {},
   "outputs": [],
   "source": [
    "# y = revenue, dropping the rows where y is not valid\n",
    "k = []\n",
    "for i in range(n):\n",
    "    if d.revenue[i] == 0 :\n",
    "        k += [i]\n",
    "d = d.drop(k, axis = 0)"
   ]
  },
  {
   "cell_type": "code",
   "execution_count": 41,
   "metadata": {},
   "outputs": [
    {
     "name": "stdout",
     "output_type": "stream",
     "text": [
      "7414 24\n"
     ]
    }
   ],
   "source": [
    "#importing new dataframe with valid values for y which will be used to train the model\n",
    "d.to_csv(\"movies.csv\",index=False)\n",
    "d=pd.read_csv('movies.csv')\n",
    "n = d.shape[0]\n",
    "m = d.shape[1]\n",
    "print(n,m)"
   ]
  },
  {
   "cell_type": "code",
   "execution_count": 42,
   "metadata": {},
   "outputs": [
    {
     "data": {
      "text/plain": [
       "14"
      ]
     },
     "execution_count": 42,
     "metadata": {},
     "output_type": "execute_result"
    }
   ],
   "source": [
    "#dropping irrelevalent columns\n",
    "d = d.drop(['id','original_title','title','imdb_id','homepage','overview','poster_path','tagline','video','status'], axis=1)\n",
    "len(d.columns)"
   ]
  },
  {
   "cell_type": "code",
   "execution_count": 43,
   "metadata": {},
   "outputs": [
    {
     "name": "stdout",
     "output_type": "stream",
     "text": [
      "belongs_to_collection 5927 0\n",
      "popularity 5 0\n",
      "production_companies 3 0\n",
      "production_countries 3 0\n",
      "release_date 4 0\n",
      "revenue 6 0\n",
      "runtime 12 21\n",
      "spoken_languages 6 0\n",
      "vote_average 6 38\n",
      "vote_count 6 37\n"
     ]
    }
   ],
   "source": [
    "features_na = []\n",
    "for features in d.columns:\n",
    "    if pd.isnull(d[features]).sum()>0 or (d[features]==0).sum() > 0:\n",
    "            features_na += [features]\n",
    "            print(features, pd.isnull(d[features]).sum(),(d[features]==0).sum())"
   ]
  },
  {
   "cell_type": "code",
   "execution_count": 44,
   "metadata": {},
   "outputs": [
    {
     "name": "stderr",
     "output_type": "stream",
     "text": [
      "C:\\Users\\Utkarsh\\AppData\\Local\\Temp\\ipykernel_40448\\2757706491.py:6: SettingWithCopyWarning: \n",
      "A value is trying to be set on a copy of a slice from a DataFrame\n",
      "\n",
      "See the caveats in the documentation: https://pandas.pydata.org/pandas-docs/stable/user_guide/indexing.html#returning-a-view-versus-a-copy\n",
      "  d.belongs_to_collection[i] = (d.belongs_to_collection[i].split(',')[1]).split(':')[1]\n",
      "C:\\Users\\Utkarsh\\AppData\\Local\\Temp\\ipykernel_40448\\2757706491.py:8: SettingWithCopyWarning: \n",
      "A value is trying to be set on a copy of a slice from a DataFrame\n",
      "\n",
      "See the caveats in the documentation: https://pandas.pydata.org/pandas-docs/stable/user_guide/indexing.html#returning-a-view-versus-a-copy\n",
      "  d.belongs_to_collection[i] = 'missing'\n"
     ]
    }
   ],
   "source": [
    "#putting missing as a values for all the movies which dont have a sequel or standalone movies\n",
    "d.belongs_to_collection = d.belongs_to_collection.fillna(\"'missing'\")\n",
    "for i in range(n):\n",
    "    if d.belongs_to_collection[i] != \"'missing'\":\n",
    "        try:\n",
    "            d.belongs_to_collection[i] = (d.belongs_to_collection[i].split(',')[1]).split(':')[1]\n",
    "        except:\n",
    "            d.belongs_to_collection[i] = 'missing'"
   ]
  },
  {
   "cell_type": "code",
   "execution_count": 45,
   "metadata": {},
   "outputs": [
    {
     "data": {
      "text/plain": [
       "\"dataset = pd.read_csv('movies_metadata.csv')\\nfor i in [19729,19730,35587,35586,29502,29503]:\\n    print(dataset.loc[i])\\nfor i in range(n):\\n    if d.id[i] in [82663,'1997-08-20']:\\n        print(d.index())\\nd = d.drop(d.id in [82663,1997-08-20,2014-01-01,249260,122662,2012-09-29])\\nd.shape\\n#d.id[2]\\nfor i in range(n) :\\n    if i not in [19729,19730,35587,35586,29502,29503] and type(d.spoken_languages[i]) == float:\\n        print(d.original_title[i],d.id[i], d.production_companies[i])\""
      ]
     },
     "execution_count": 45,
     "metadata": {},
     "output_type": "execute_result"
    }
   ],
   "source": [
    "################################ purana code\n",
    "'''dataset = pd.read_csv('movies_metadata.csv')\n",
    "for i in [19729,19730,35587,35586,29502,29503]:\n",
    "    print(dataset.loc[i])\n",
    "for i in range(n):\n",
    "    if d.id[i] in [82663,'1997-08-20']:\n",
    "        print(d.index())\n",
    "d = d.drop(d.id in [82663,1997-08-20,2014-01-01,249260,122662,2012-09-29])\n",
    "d.shape\n",
    "#d.id[2]\n",
    "for i in range(n) :\n",
    "    if i not in [19729,19730,35587,35586,29502,29503] and type(d.spoken_languages[i]) == float:\n",
    "        print(d.original_title[i],d.id[i], d.production_companies[i])'''"
   ]
  },
  {
   "cell_type": "code",
   "execution_count": 46,
   "metadata": {},
   "outputs": [
    {
     "name": "stderr",
     "output_type": "stream",
     "text": [
      "C:\\Users\\Utkarsh\\AppData\\Local\\Temp\\ipykernel_40448\\1954357558.py:11: SettingWithCopyWarning: \n",
      "A value is trying to be set on a copy of a slice from a DataFrame\n",
      "\n",
      "See the caveats in the documentation: https://pandas.pydata.org/pandas-docs/stable/user_guide/indexing.html#returning-a-view-versus-a-copy\n",
      "  d.production_countries[i] = \"[{'iso_3166_1': 'NA', 'name': 'unknown'}]\"\n",
      "C:\\Users\\Utkarsh\\AppData\\Local\\Temp\\ipykernel_40448\\1954357558.py:22: SettingWithCopyWarning: \n",
      "A value is trying to be set on a copy of a slice from a DataFrame\n",
      "\n",
      "See the caveats in the documentation: https://pandas.pydata.org/pandas-docs/stable/user_guide/indexing.html#returning-a-view-versus-a-copy\n",
      "  d.spoken_languages[i] = \"[{'iso_639_1': 'na', 'name': 'unknown'}]\"\n",
      "C:\\Users\\Utkarsh\\AppData\\Local\\Temp\\ipykernel_40448\\1954357558.py:6: SettingWithCopyWarning: \n",
      "A value is trying to be set on a copy of a slice from a DataFrame\n",
      "\n",
      "See the caveats in the documentation: https://pandas.pydata.org/pandas-docs/stable/user_guide/indexing.html#returning-a-view-versus-a-copy\n",
      "  d.genres[i] = \"[{'id': -1, 'name': 'unclassified'}]\"\n"
     ]
    },
    {
     "name": "stdout",
     "output_type": "stream",
     "text": [
      "5456\n",
      "5456\n",
      "5457\n",
      "6411\n",
      "6411\n",
      "6412\n",
      "6786\n",
      "6786\n",
      "6787\n"
     ]
    }
   ],
   "source": [
    "# adding info for dictionaries type colums where values are missing\n",
    "k = 0\n",
    "for i in range(n) :\n",
    "    try:\n",
    "        if len(d.genres[i]) == 2:\n",
    "            d.genres[i] = \"[{'id': -1, 'name': 'unclassified'}]\"\n",
    "    except:\n",
    "        print(i)\n",
    "    try:\n",
    "        if len(d.production_countries[i]) == 2:\n",
    "            d.production_countries[i] = \"[{'iso_3166_1': 'NA', 'name': 'unknown'}]\"\n",
    "    except:\n",
    "        print(i)\n",
    "\n",
    "    try:\n",
    "        if len(d.production_companies) == 2:\n",
    "            d.production_companies[i] = \"[{'id': -1 , 'name': 'unknown'}]\"\n",
    "    except:\n",
    "        print(i)\n",
    "    try:\n",
    "        if len(d.spoken_languages[i]) == 2:\n",
    "            d.spoken_languages[i] = \"[{'iso_639_1': 'na', 'name': 'unknown'}]\"\n",
    "    except:\n",
    "        print(i)"
   ]
  },
  {
   "cell_type": "code",
   "execution_count": 47,
   "metadata": {},
   "outputs": [],
   "source": [
    "#dropping erroneous entries\n",
    "d = d.drop([5456,5457,6411,6412,6786,6787])"
   ]
  },
  {
   "cell_type": "code",
   "execution_count": 48,
   "metadata": {},
   "outputs": [
    {
     "name": "stdout",
     "output_type": "stream",
     "text": [
      "7408 14\n"
     ]
    }
   ],
   "source": [
    "#saving the data into a new file for further processing\n",
    "d.to_csv(\"movies.csv\",index=False)\n",
    "d=pd.read_csv('movies.csv')\n",
    "n = d.shape[0]\n",
    "m = d.shape[1]\n",
    "print(n,m)"
   ]
  },
  {
   "cell_type": "code",
   "execution_count": 49,
   "metadata": {},
   "outputs": [
    {
     "data": {
      "text/html": [
       "<div>\n",
       "<style scoped>\n",
       "    .dataframe tbody tr th:only-of-type {\n",
       "        vertical-align: middle;\n",
       "    }\n",
       "\n",
       "    .dataframe tbody tr th {\n",
       "        vertical-align: top;\n",
       "    }\n",
       "\n",
       "    .dataframe thead th {\n",
       "        text-align: right;\n",
       "    }\n",
       "</style>\n",
       "<table border=\"1\" class=\"dataframe\">\n",
       "  <thead>\n",
       "    <tr style=\"text-align: right;\">\n",
       "      <th></th>\n",
       "      <th>adult</th>\n",
       "      <th>belongs_to_collection</th>\n",
       "      <th>budget</th>\n",
       "      <th>genres</th>\n",
       "      <th>original_language</th>\n",
       "      <th>popularity</th>\n",
       "      <th>production_companies</th>\n",
       "      <th>production_countries</th>\n",
       "      <th>release_date</th>\n",
       "      <th>revenue</th>\n",
       "      <th>runtime</th>\n",
       "      <th>spoken_languages</th>\n",
       "      <th>vote_average</th>\n",
       "      <th>vote_count</th>\n",
       "    </tr>\n",
       "  </thead>\n",
       "  <tbody>\n",
       "    <tr>\n",
       "      <th>0</th>\n",
       "      <td>False</td>\n",
       "      <td>'Toy Story Collection'</td>\n",
       "      <td>30000000</td>\n",
       "      <td>[{'id': 16, 'name': 'Animation'}, {'id': 35, '...</td>\n",
       "      <td>en</td>\n",
       "      <td>21.946943</td>\n",
       "      <td>[{'name': 'Pixar Animation Studios', 'id': 3}]</td>\n",
       "      <td>[{'iso_3166_1': 'US', 'name': 'United States o...</td>\n",
       "      <td>1995-10-30</td>\n",
       "      <td>373554033.0</td>\n",
       "      <td>81.0</td>\n",
       "      <td>[{'iso_639_1': 'en', 'name': 'English'}]</td>\n",
       "      <td>7.7</td>\n",
       "      <td>5415.0</td>\n",
       "    </tr>\n",
       "    <tr>\n",
       "      <th>1</th>\n",
       "      <td>False</td>\n",
       "      <td>'missing'</td>\n",
       "      <td>65000000</td>\n",
       "      <td>[{'id': 12, 'name': 'Adventure'}, {'id': 14, '...</td>\n",
       "      <td>en</td>\n",
       "      <td>17.015539</td>\n",
       "      <td>[{'name': 'TriStar Pictures', 'id': 559}, {'na...</td>\n",
       "      <td>[{'iso_3166_1': 'US', 'name': 'United States o...</td>\n",
       "      <td>1995-12-15</td>\n",
       "      <td>262797249.0</td>\n",
       "      <td>104.0</td>\n",
       "      <td>[{'iso_639_1': 'en', 'name': 'English'}, {'iso...</td>\n",
       "      <td>6.9</td>\n",
       "      <td>2413.0</td>\n",
       "    </tr>\n",
       "  </tbody>\n",
       "</table>\n",
       "</div>"
      ],
      "text/plain": [
       "   adult    belongs_to_collection    budget  \\\n",
       "0  False   'Toy Story Collection'  30000000   \n",
       "1  False                'missing'  65000000   \n",
       "\n",
       "                                              genres original_language  \\\n",
       "0  [{'id': 16, 'name': 'Animation'}, {'id': 35, '...                en   \n",
       "1  [{'id': 12, 'name': 'Adventure'}, {'id': 14, '...                en   \n",
       "\n",
       "   popularity                               production_companies  \\\n",
       "0   21.946943     [{'name': 'Pixar Animation Studios', 'id': 3}]   \n",
       "1   17.015539  [{'name': 'TriStar Pictures', 'id': 559}, {'na...   \n",
       "\n",
       "                                production_countries release_date  \\\n",
       "0  [{'iso_3166_1': 'US', 'name': 'United States o...   1995-10-30   \n",
       "1  [{'iso_3166_1': 'US', 'name': 'United States o...   1995-12-15   \n",
       "\n",
       "       revenue  runtime                                   spoken_languages  \\\n",
       "0  373554033.0     81.0           [{'iso_639_1': 'en', 'name': 'English'}]   \n",
       "1  262797249.0    104.0  [{'iso_639_1': 'en', 'name': 'English'}, {'iso...   \n",
       "\n",
       "   vote_average  vote_count  \n",
       "0           7.7      5415.0  \n",
       "1           6.9      2413.0  "
      ]
     },
     "execution_count": 49,
     "metadata": {},
     "output_type": "execute_result"
    }
   ],
   "source": [
    "d.head(2)"
   ]
  },
  {
   "cell_type": "code",
   "execution_count": 50,
   "metadata": {},
   "outputs": [
    {
     "name": "stderr",
     "output_type": "stream",
     "text": [
      "C:\\Users\\Utkarsh\\AppData\\Local\\Temp\\ipykernel_40448\\2380315716.py:13: SettingWithCopyWarning: \n",
      "A value is trying to be set on a copy of a slice from a DataFrame\n",
      "\n",
      "See the caveats in the documentation: https://pandas.pydata.org/pandas-docs/stable/user_guide/indexing.html#returning-a-view-versus-a-copy\n",
      "  d.genres[i] = k1\n",
      "C:\\Users\\Utkarsh\\AppData\\Local\\Temp\\ipykernel_40448\\2380315716.py:19: SettingWithCopyWarning: \n",
      "A value is trying to be set on a copy of a slice from a DataFrame\n",
      "\n",
      "See the caveats in the documentation: https://pandas.pydata.org/pandas-docs/stable/user_guide/indexing.html#returning-a-view-versus-a-copy\n",
      "  d.production_companies[i] = k2\n",
      "C:\\Users\\Utkarsh\\AppData\\Local\\Temp\\ipykernel_40448\\2380315716.py:25: SettingWithCopyWarning: \n",
      "A value is trying to be set on a copy of a slice from a DataFrame\n",
      "\n",
      "See the caveats in the documentation: https://pandas.pydata.org/pandas-docs/stable/user_guide/indexing.html#returning-a-view-versus-a-copy\n",
      "  d.production_countries[i] = k3\n",
      "C:\\Users\\Utkarsh\\AppData\\Local\\Temp\\ipykernel_40448\\2380315716.py:31: SettingWithCopyWarning: \n",
      "A value is trying to be set on a copy of a slice from a DataFrame\n",
      "\n",
      "See the caveats in the documentation: https://pandas.pydata.org/pandas-docs/stable/user_guide/indexing.html#returning-a-view-versus-a-copy\n",
      "  d.spoken_languages[i] = k4\n"
     ]
    },
    {
     "data": {
      "text/html": [
       "<div>\n",
       "<style scoped>\n",
       "    .dataframe tbody tr th:only-of-type {\n",
       "        vertical-align: middle;\n",
       "    }\n",
       "\n",
       "    .dataframe tbody tr th {\n",
       "        vertical-align: top;\n",
       "    }\n",
       "\n",
       "    .dataframe thead th {\n",
       "        text-align: right;\n",
       "    }\n",
       "</style>\n",
       "<table border=\"1\" class=\"dataframe\">\n",
       "  <thead>\n",
       "    <tr style=\"text-align: right;\">\n",
       "      <th></th>\n",
       "      <th>adult</th>\n",
       "      <th>belongs_to_collection</th>\n",
       "      <th>budget</th>\n",
       "      <th>genres</th>\n",
       "      <th>original_language</th>\n",
       "      <th>popularity</th>\n",
       "      <th>production_companies</th>\n",
       "      <th>production_countries</th>\n",
       "      <th>release_date</th>\n",
       "      <th>revenue</th>\n",
       "      <th>runtime</th>\n",
       "      <th>spoken_languages</th>\n",
       "      <th>vote_average</th>\n",
       "      <th>vote_count</th>\n",
       "    </tr>\n",
       "  </thead>\n",
       "  <tbody>\n",
       "    <tr>\n",
       "      <th>0</th>\n",
       "      <td>False</td>\n",
       "      <td>'Toy Story Collection'</td>\n",
       "      <td>30000000</td>\n",
       "      <td>[Animation, Comedy, Family]</td>\n",
       "      <td>en</td>\n",
       "      <td>21.946943</td>\n",
       "      <td>[Pixar Animation Studios]</td>\n",
       "      <td>[United States of America]</td>\n",
       "      <td>1995-10-30</td>\n",
       "      <td>373554033.0</td>\n",
       "      <td>81.0</td>\n",
       "      <td>[English]</td>\n",
       "      <td>7.7</td>\n",
       "      <td>5415.0</td>\n",
       "    </tr>\n",
       "    <tr>\n",
       "      <th>1</th>\n",
       "      <td>False</td>\n",
       "      <td>'missing'</td>\n",
       "      <td>65000000</td>\n",
       "      <td>[Adventure, Fantasy, Family]</td>\n",
       "      <td>en</td>\n",
       "      <td>17.015539</td>\n",
       "      <td>[TriStar Pictures, Teitler Film, Interscope Co...</td>\n",
       "      <td>[United States of America]</td>\n",
       "      <td>1995-12-15</td>\n",
       "      <td>262797249.0</td>\n",
       "      <td>104.0</td>\n",
       "      <td>[English, Français]</td>\n",
       "      <td>6.9</td>\n",
       "      <td>2413.0</td>\n",
       "    </tr>\n",
       "    <tr>\n",
       "      <th>2</th>\n",
       "      <td>False</td>\n",
       "      <td>'missing'</td>\n",
       "      <td>16000000</td>\n",
       "      <td>[Comedy, Drama, Romance]</td>\n",
       "      <td>en</td>\n",
       "      <td>3.859495</td>\n",
       "      <td>[Twentieth Century Fox Film Corporation]</td>\n",
       "      <td>[United States of America]</td>\n",
       "      <td>1995-12-22</td>\n",
       "      <td>81452156.0</td>\n",
       "      <td>127.0</td>\n",
       "      <td>[English]</td>\n",
       "      <td>6.1</td>\n",
       "      <td>34.0</td>\n",
       "    </tr>\n",
       "  </tbody>\n",
       "</table>\n",
       "</div>"
      ],
      "text/plain": [
       "   adult    belongs_to_collection    budget                        genres  \\\n",
       "0  False   'Toy Story Collection'  30000000   [Animation, Comedy, Family]   \n",
       "1  False                'missing'  65000000  [Adventure, Fantasy, Family]   \n",
       "2  False                'missing'  16000000      [Comedy, Drama, Romance]   \n",
       "\n",
       "  original_language  popularity  \\\n",
       "0                en   21.946943   \n",
       "1                en   17.015539   \n",
       "2                en    3.859495   \n",
       "\n",
       "                                production_companies  \\\n",
       "0                          [Pixar Animation Studios]   \n",
       "1  [TriStar Pictures, Teitler Film, Interscope Co...   \n",
       "2           [Twentieth Century Fox Film Corporation]   \n",
       "\n",
       "         production_countries release_date      revenue  runtime  \\\n",
       "0  [United States of America]   1995-10-30  373554033.0     81.0   \n",
       "1  [United States of America]   1995-12-15  262797249.0    104.0   \n",
       "2  [United States of America]   1995-12-22   81452156.0    127.0   \n",
       "\n",
       "      spoken_languages  vote_average  vote_count  \n",
       "0            [English]           7.7      5415.0  \n",
       "1  [English, Français]           6.9      2413.0  \n",
       "2            [English]           6.1        34.0  "
      ]
     },
     "execution_count": 50,
     "metadata": {},
     "output_type": "execute_result"
    }
   ],
   "source": [
    "# retriving useful information from dictionary type columns \n",
    "for i in range(n):\n",
    "    k1 = []\n",
    "    k2 = []\n",
    "    k3 = []\n",
    "    k4 = []\n",
    "    k5 = []\n",
    "    for j in range(len(eval(d.genres[i]))):\n",
    "        try:\n",
    "            k1 += [eval(d.genres[i])[j]['name']]\n",
    "        except:\n",
    "            print(d.iloc[[i]])\n",
    "    d.genres[i] = k1\n",
    "    for j in range(len(eval(d.production_companies[i]))):\n",
    "        try:\n",
    "            k2 += [eval(d.production_companies[i])[j]['name']]\n",
    "        except:\n",
    "            print(d.iloc[[i]])\n",
    "    d.production_companies[i] = k2\n",
    "    for j in range(len(eval(d.production_countries[i]))):\n",
    "        try: \n",
    "            k3 += [eval(d.production_countries[i])[j]['name']]\n",
    "        except:\n",
    "            print(d.iloc[[i]])\n",
    "    d.production_countries[i] = k3\n",
    "    for j in range(len(eval(d.spoken_languages[i]))):\n",
    "        try:    \n",
    "            k4 += [eval(d.spoken_languages[i])[j]['name']]\n",
    "        except:\n",
    "            print(d.iloc[[i]])\n",
    "    d.spoken_languages[i] = k4\n",
    "\n",
    "d.head(3)"
   ]
  },
  {
   "cell_type": "code",
   "execution_count": 51,
   "metadata": {},
   "outputs": [
    {
     "data": {
      "text/plain": [
       "'c=0\\nfor i in d.popularity:\\n    if i != None and type(i) != float:\\n        c+=1\\nprint(c)\\n\\nd.popularity = pd.to_numeric(d.popularity)\\nc=0\\nfor i in d.popularity:\\n    if i != None and type(i) != float:\\n        c+=1\\nprint(c)'"
      ]
     },
     "execution_count": 51,
     "metadata": {},
     "output_type": "execute_result"
    }
   ],
   "source": [
    "'''c=0\n",
    "for i in d.popularity:\n",
    "    if i != None and type(i) != float:\n",
    "        c+=1\n",
    "print(c)\n",
    "\n",
    "d.popularity = pd.to_numeric(d.popularity)\n",
    "c=0\n",
    "for i in d.popularity:\n",
    "    if i != None and type(i) != float:\n",
    "        c+=1\n",
    "print(c)'''\n"
   ]
  },
  {
   "cell_type": "code",
   "execution_count": 52,
   "metadata": {},
   "outputs": [
    {
     "name": "stderr",
     "output_type": "stream",
     "text": [
      "C:\\Users\\Utkarsh\\AppData\\Local\\Temp\\ipykernel_40448\\1313756863.py:4: SettingWithCopyWarning: \n",
      "A value is trying to be set on a copy of a slice from a DataFrame\n",
      "\n",
      "See the caveats in the documentation: https://pandas.pydata.org/pandas-docs/stable/user_guide/indexing.html#returning-a-view-versus-a-copy\n",
      "  i[j] = str(i[j])\n",
      "C:\\Users\\Utkarsh\\AppData\\Local\\Temp\\ipykernel_40448\\1313756863.py:10: SettingWithCopyWarning: \n",
      "A value is trying to be set on a copy of a slice from a DataFrame\n",
      "\n",
      "See the caveats in the documentation: https://pandas.pydata.org/pandas-docs/stable/user_guide/indexing.html#returning-a-view-versus-a-copy\n",
      "  df.release_date[i] = int(df.release_date[i].split('-')[0])\n"
     ]
    }
   ],
   "source": [
    "#converting datatype of categorical columns to string\n",
    "for i in [d.genres,d.production_companies, d.production_countries, d.spoken_languages]:\n",
    "    for j in range(n):\n",
    "        i[j] = str(i[j])\n",
    "#converting the date type columns into numerical\n",
    "k = []\n",
    "df = d.copy(deep=True)\n",
    "for i in range(n):\n",
    "    try:\n",
    "        df.release_date[i] = int(df.release_date[i].split('-')[0])\n",
    "    except:\n",
    "        k+=[i]\n",
    "d = df.copy(deep=True)"
   ]
  },
  {
   "cell_type": "code",
   "execution_count": 53,
   "metadata": {},
   "outputs": [],
   "source": [
    "#converting categorical values into numerical and saving corresponding categorical values in dic\n",
    "df = d.copy(deep=True)\n",
    "cat = ['adult','belongs_to_collection', 'genres','original_language','production_companies', 'production_countries', 'spoken_languages']\n",
    "for i in cat:\n",
    "    label_encoder = preprocessing.LabelEncoder() \n",
    "    df[i]= label_encoder.fit_transform(df[i])\n",
    "d = df.copy(deep=True)"
   ]
  },
  {
   "cell_type": "code",
   "execution_count": 54,
   "metadata": {},
   "outputs": [
    {
     "name": "stderr",
     "output_type": "stream",
     "text": [
      "C:\\Users\\Utkarsh\\AppData\\Local\\Temp\\ipykernel_40448\\3041515083.py:5: FutureWarning: The default value of numeric_only in DataFrame.corr is deprecated. In a future version, it will default to False. Select only valid columns or specify the value of numeric_only to silence this warning.\n",
      "  sns.heatmap(numdf.corr(),\n"
     ]
    },
    {
     "data": {
      "text/plain": [
       "<Axes: >"
      ]
     },
     "execution_count": 54,
     "metadata": {},
     "output_type": "execute_result"
    },
    {
     "data": {
      "image/png": "[encoded data removed]",
      "text/plain": [
       "<Figure size 864x432 with 2 Axes>"
      ]
     },
     "metadata": {
      "needs_background": "light"
     },
     "output_type": "display_data"
    }
   ],
   "source": [
    "#Generating a correlation heatmap\n",
    "plt.figure(figsize=(12,6))\n",
    "numdf = df.copy(deep= True)\n",
    "for i in cat:\n",
    "    numdf = numdf.drop([i],axis = 1)\n",
    "sns.heatmap(numdf.corr(),\n",
    "            cmap='BrBG',\n",
    "            fmt='.2f',\n",
    "            linewidths=2,\n",
    "            annot=True)"
   ]
  },
  {
   "cell_type": "code",
   "execution_count": 55,
   "metadata": {},
   "outputs": [
    {
     "name": "stderr",
     "output_type": "stream",
     "text": [
      "C:\\Users\\Utkarsh\\AppData\\Local\\Temp\\ipykernel_40448\\1238762730.py:9: MatplotlibDeprecationWarning: Auto-removal of overlapping axes is deprecated since 3.6 and will be removed two minor releases later; explicitly call ax.remove() as needed.\n",
      "  plt.subplot(3, 3, index)\n",
      "C:\\Users\\Utkarsh\\AppData\\Local\\Temp\\ipykernel_40448\\1238762730.py:10: UserWarning: \n",
      "\n",
      "`distplot` is a deprecated function and will be removed in seaborn v0.14.0.\n",
      "\n",
      "Please adapt your code to use either `displot` (a figure-level function with\n",
      "similar flexibility) or `histplot` (an axes-level function for histograms).\n",
      "\n",
      "For a guide to updating your code to use the new functions, please see\n",
      "https://gist.github.com/mwaskom/de44147ed2974457ad6372750bbe5751\n",
      "\n",
      "  sns.distplot(df[i])\n",
      "C:\\Users\\Utkarsh\\AppData\\Local\\Temp\\ipykernel_40448\\1238762730.py:10: UserWarning: \n",
      "\n",
      "`distplot` is a deprecated function and will be removed in seaborn v0.14.0.\n",
      "\n",
      "Please adapt your code to use either `displot` (a figure-level function with\n",
      "similar flexibility) or `histplot` (an axes-level function for histograms).\n",
      "\n",
      "For a guide to updating your code to use the new functions, please see\n",
      "https://gist.github.com/mwaskom/de44147ed2974457ad6372750bbe5751\n",
      "\n",
      "  sns.distplot(df[i])\n",
      "C:\\Users\\Utkarsh\\AppData\\Local\\Temp\\ipykernel_40448\\1238762730.py:10: UserWarning: \n",
      "\n",
      "`distplot` is a deprecated function and will be removed in seaborn v0.14.0.\n",
      "\n",
      "Please adapt your code to use either `displot` (a figure-level function with\n",
      "similar flexibility) or `histplot` (an axes-level function for histograms).\n",
      "\n",
      "For a guide to updating your code to use the new functions, please see\n",
      "https://gist.github.com/mwaskom/de44147ed2974457ad6372750bbe5751\n",
      "\n",
      "  sns.distplot(df[i])\n",
      "C:\\Users\\Utkarsh\\AppData\\Local\\Temp\\ipykernel_40448\\1238762730.py:10: UserWarning: \n",
      "\n",
      "`distplot` is a deprecated function and will be removed in seaborn v0.14.0.\n",
      "\n",
      "Please adapt your code to use either `displot` (a figure-level function with\n",
      "similar flexibility) or `histplot` (an axes-level function for histograms).\n",
      "\n",
      "For a guide to updating your code to use the new functions, please see\n",
      "https://gist.github.com/mwaskom/de44147ed2974457ad6372750bbe5751\n",
      "\n",
      "  sns.distplot(df[i])\n",
      "C:\\Users\\Utkarsh\\AppData\\Local\\Temp\\ipykernel_40448\\1238762730.py:10: UserWarning: \n",
      "\n",
      "`distplot` is a deprecated function and will be removed in seaborn v0.14.0.\n",
      "\n",
      "Please adapt your code to use either `displot` (a figure-level function with\n",
      "similar flexibility) or `histplot` (an axes-level function for histograms).\n",
      "\n",
      "For a guide to updating your code to use the new functions, please see\n",
      "https://gist.github.com/mwaskom/de44147ed2974457ad6372750bbe5751\n",
      "\n",
      "  sns.distplot(df[i])\n",
      "C:\\Users\\Utkarsh\\AppData\\Local\\Temp\\ipykernel_40448\\1238762730.py:10: UserWarning: \n",
      "\n",
      "`distplot` is a deprecated function and will be removed in seaborn v0.14.0.\n",
      "\n",
      "Please adapt your code to use either `displot` (a figure-level function with\n",
      "similar flexibility) or `histplot` (an axes-level function for histograms).\n",
      "\n",
      "For a guide to updating your code to use the new functions, please see\n",
      "https://gist.github.com/mwaskom/de44147ed2974457ad6372750bbe5751\n",
      "\n",
      "  sns.distplot(df[i])\n",
      "C:\\Users\\Utkarsh\\AppData\\Local\\Temp\\ipykernel_40448\\1238762730.py:10: UserWarning: \n",
      "\n",
      "`distplot` is a deprecated function and will be removed in seaborn v0.14.0.\n",
      "\n",
      "Please adapt your code to use either `displot` (a figure-level function with\n",
      "similar flexibility) or `histplot` (an axes-level function for histograms).\n",
      "\n",
      "For a guide to updating your code to use the new functions, please see\n",
      "https://gist.github.com/mwaskom/de44147ed2974457ad6372750bbe5751\n",
      "\n",
      "  sns.distplot(df[i])\n"
     ]
    },
    {
     "data": {
      "image/png": "[encoded data removed]",
      "text/plain": [
       "<Figure size 1224x720 with 7 Axes>"
      ]
     },
     "metadata": {
      "needs_background": "light"
     },
     "output_type": "display_data"
    }
   ],
   "source": [
    "#generating displots for numerical categories\n",
    "num = []\n",
    "for i in df.columns:\n",
    "      if i not in cat:\n",
    "            num += [i]\n",
    "plt.subplots(figsize=(17, 10))\n",
    "index = 1\n",
    "  \n",
    "for i in num:\n",
    "    plt.subplot(3, 3, index)\n",
    "    sns.distplot(df[i])\n",
    "    index += 1"
   ]
  },
  {
   "cell_type": "code",
   "execution_count": 56,
   "metadata": {},
   "outputs": [
    {
     "name": "stdout",
     "output_type": "stream",
     "text": [
      "budget 0 2027\n",
      "release_date 1 0\n",
      "runtime 6 21\n",
      "vote_average 0 38\n",
      "vote_count 0 37\n"
     ]
    }
   ],
   "source": [
    "#finding numerical features with na or values equal to zero\n",
    "num = []\n",
    "for i in df.columns:\n",
    "      if i not in cat:\n",
    "            num += [i]\n",
    "num_na_features =[]\n",
    "for features in num:\n",
    "    if pd.isnull(df[features]).sum()>0 or (df[features]==0).sum() > 0:\n",
    "            num_na_features += [features]\n",
    "            print(features, pd.isnull(df[features]).sum(),(df[features]==0).sum())"
   ]
  },
  {
   "cell_type": "code",
   "execution_count": 57,
   "metadata": {},
   "outputs": [
    {
     "data": {
      "text/plain": [
       "adult                    False\n",
       "belongs_to_collection    False\n",
       "budget                   False\n",
       "genres                   False\n",
       "original_language        False\n",
       "popularity               False\n",
       "production_companies     False\n",
       "production_countries     False\n",
       "release_date             False\n",
       "revenue                  False\n",
       "runtime                  False\n",
       "spoken_languages         False\n",
       "vote_average             False\n",
       "vote_count               False\n",
       "dtype: bool"
      ]
     },
     "execution_count": 57,
     "metadata": {},
     "output_type": "execute_result"
    }
   ],
   "source": [
    "df = d.copy(deep=True)\n",
    "for i in num:\n",
    "    df[i] = df[i].replace(0, np.nan)\n",
    "med_num = ['budget','popularity','vote_count']\n",
    "mod_num = ['release_date']\n",
    "men_num = ['vote_average','runtime']\n",
    "for i in num:\n",
    "    if i in med_num:\n",
    "        df[i].fillna(df[i].median(),inplace = True)\n",
    "    elif i in mod_num:\n",
    "        df[i].fillna(df[i].mode()[0],inplace = True)\n",
    "    elif i in men_num:\n",
    "        df[i].fillna(df[i].mean(),inplace = True)\n",
    "df.isnull().any()"
   ]
  },
  {
   "cell_type": "code",
   "execution_count": 58,
   "metadata": {},
   "outputs": [
    {
     "name": "stderr",
     "output_type": "stream",
     "text": [
      "C:\\Users\\Utkarsh\\AppData\\Local\\Temp\\ipykernel_40448\\3113619576.py:5: MatplotlibDeprecationWarning: Auto-removal of overlapping axes is deprecated since 3.6 and will be removed two minor releases later; explicitly call ax.remove() as needed.\n",
      "  plt.subplot(3, 3, index)\n",
      "C:\\Users\\Utkarsh\\AppData\\Local\\Temp\\ipykernel_40448\\3113619576.py:6: UserWarning: \n",
      "\n",
      "`distplot` is a deprecated function and will be removed in seaborn v0.14.0.\n",
      "\n",
      "Please adapt your code to use either `displot` (a figure-level function with\n",
      "similar flexibility) or `histplot` (an axes-level function for histograms).\n",
      "\n",
      "For a guide to updating your code to use the new functions, please see\n",
      "https://gist.github.com/mwaskom/de44147ed2974457ad6372750bbe5751\n",
      "\n",
      "  sns.distplot(df[i])\n",
      "C:\\Users\\Utkarsh\\AppData\\Local\\Temp\\ipykernel_40448\\3113619576.py:6: UserWarning: \n",
      "\n",
      "`distplot` is a deprecated function and will be removed in seaborn v0.14.0.\n",
      "\n",
      "Please adapt your code to use either `displot` (a figure-level function with\n",
      "similar flexibility) or `histplot` (an axes-level function for histograms).\n",
      "\n",
      "For a guide to updating your code to use the new functions, please see\n",
      "https://gist.github.com/mwaskom/de44147ed2974457ad6372750bbe5751\n",
      "\n",
      "  sns.distplot(df[i])\n",
      "C:\\Users\\Utkarsh\\AppData\\Local\\Temp\\ipykernel_40448\\3113619576.py:6: UserWarning: \n",
      "\n",
      "`distplot` is a deprecated function and will be removed in seaborn v0.14.0.\n",
      "\n",
      "Please adapt your code to use either `displot` (a figure-level function with\n",
      "similar flexibility) or `histplot` (an axes-level function for histograms).\n",
      "\n",
      "For a guide to updating your code to use the new functions, please see\n",
      "https://gist.github.com/mwaskom/de44147ed2974457ad6372750bbe5751\n",
      "\n",
      "  sns.distplot(df[i])\n",
      "C:\\Users\\Utkarsh\\AppData\\Local\\Temp\\ipykernel_40448\\3113619576.py:6: UserWarning: \n",
      "\n",
      "`distplot` is a deprecated function and will be removed in seaborn v0.14.0.\n",
      "\n",
      "Please adapt your code to use either `displot` (a figure-level function with\n",
      "similar flexibility) or `histplot` (an axes-level function for histograms).\n",
      "\n",
      "For a guide to updating your code to use the new functions, please see\n",
      "https://gist.github.com/mwaskom/de44147ed2974457ad6372750bbe5751\n",
      "\n",
      "  sns.distplot(df[i])\n",
      "C:\\Users\\Utkarsh\\AppData\\Local\\Temp\\ipykernel_40448\\3113619576.py:6: UserWarning: \n",
      "\n",
      "`distplot` is a deprecated function and will be removed in seaborn v0.14.0.\n",
      "\n",
      "Please adapt your code to use either `displot` (a figure-level function with\n",
      "similar flexibility) or `histplot` (an axes-level function for histograms).\n",
      "\n",
      "For a guide to updating your code to use the new functions, please see\n",
      "https://gist.github.com/mwaskom/de44147ed2974457ad6372750bbe5751\n",
      "\n",
      "  sns.distplot(df[i])\n",
      "C:\\Users\\Utkarsh\\AppData\\Local\\Temp\\ipykernel_40448\\3113619576.py:6: UserWarning: \n",
      "\n",
      "`distplot` is a deprecated function and will be removed in seaborn v0.14.0.\n",
      "\n",
      "Please adapt your code to use either `displot` (a figure-level function with\n",
      "similar flexibility) or `histplot` (an axes-level function for histograms).\n",
      "\n",
      "For a guide to updating your code to use the new functions, please see\n",
      "https://gist.github.com/mwaskom/de44147ed2974457ad6372750bbe5751\n",
      "\n",
      "  sns.distplot(df[i])\n",
      "C:\\Users\\Utkarsh\\AppData\\Local\\Temp\\ipykernel_40448\\3113619576.py:6: UserWarning: \n",
      "\n",
      "`distplot` is a deprecated function and will be removed in seaborn v0.14.0.\n",
      "\n",
      "Please adapt your code to use either `displot` (a figure-level function with\n",
      "similar flexibility) or `histplot` (an axes-level function for histograms).\n",
      "\n",
      "For a guide to updating your code to use the new functions, please see\n",
      "https://gist.github.com/mwaskom/de44147ed2974457ad6372750bbe5751\n",
      "\n",
      "  sns.distplot(df[i])\n"
     ]
    },
    {
     "data": {
      "image/png": "[encoded data removed]",
      "text/plain": [
       "<Figure size 1224x720 with 7 Axes>"
      ]
     },
     "metadata": {
      "needs_background": "light"
     },
     "output_type": "display_data"
    }
   ],
   "source": [
    "plt.subplots(figsize=(17, 10))\n",
    "index = 1\n",
    "  \n",
    "for i in num:\n",
    "    plt.subplot(3, 3, index)\n",
    "    sns.distplot(df[i])\n",
    "    index += 1"
   ]
  },
  {
   "cell_type": "code",
   "execution_count": 59,
   "metadata": {},
   "outputs": [],
   "source": [
    "y = df.iloc[:,9:10].values\n",
    "x = df.copy(deep = True)\n",
    "x = x.drop(['revenue'], axis = 1)\n",
    "x = x.iloc[:,:]"
   ]
  },
  {
   "cell_type": "code",
   "execution_count": 60,
   "metadata": {},
   "outputs": [
    {
     "data": {
      "text/html": [
       "<div>\n",
       "<style scoped>\n",
       "    .dataframe tbody tr th:only-of-type {\n",
       "        vertical-align: middle;\n",
       "    }\n",
       "\n",
       "    .dataframe tbody tr th {\n",
       "        vertical-align: top;\n",
       "    }\n",
       "\n",
       "    .dataframe thead th {\n",
       "        text-align: right;\n",
       "    }\n",
       "</style>\n",
       "<table border=\"1\" class=\"dataframe\">\n",
       "  <thead>\n",
       "    <tr style=\"text-align: right;\">\n",
       "      <th></th>\n",
       "      <th>adult</th>\n",
       "      <th>belongs_to_collection</th>\n",
       "      <th>budget</th>\n",
       "      <th>genres</th>\n",
       "      <th>original_language</th>\n",
       "      <th>popularity</th>\n",
       "      <th>production_companies</th>\n",
       "      <th>production_countries</th>\n",
       "      <th>release_date</th>\n",
       "      <th>revenue</th>\n",
       "      <th>runtime</th>\n",
       "      <th>spoken_languages</th>\n",
       "      <th>vote_average</th>\n",
       "      <th>vote_count</th>\n",
       "    </tr>\n",
       "  </thead>\n",
       "  <tbody>\n",
       "    <tr>\n",
       "      <th>0</th>\n",
       "      <td>0</td>\n",
       "      <td>691</td>\n",
       "      <td>30000000.0</td>\n",
       "      <td>507</td>\n",
       "      <td>10</td>\n",
       "      <td>21.946943</td>\n",
       "      <td>3457</td>\n",
       "      <td>652</td>\n",
       "      <td>1995</td>\n",
       "      <td>373554033.0</td>\n",
       "      <td>81.0</td>\n",
       "      <td>411</td>\n",
       "      <td>7.7</td>\n",
       "      <td>5415.0</td>\n",
       "    </tr>\n",
       "    <tr>\n",
       "      <th>1</th>\n",
       "      <td>0</td>\n",
       "      <td>748</td>\n",
       "      <td>65000000.0</td>\n",
       "      <td>447</td>\n",
       "      <td>10</td>\n",
       "      <td>17.015539</td>\n",
       "      <td>4452</td>\n",
       "      <td>652</td>\n",
       "      <td>1995</td>\n",
       "      <td>262797249.0</td>\n",
       "      <td>104.0</td>\n",
       "      <td>245</td>\n",
       "      <td>6.9</td>\n",
       "      <td>2413.0</td>\n",
       "    </tr>\n",
       "  </tbody>\n",
       "</table>\n",
       "</div>"
      ],
      "text/plain": [
       "   adult  belongs_to_collection      budget  genres  original_language  \\\n",
       "0      0                    691  30000000.0     507                 10   \n",
       "1      0                    748  65000000.0     447                 10   \n",
       "\n",
       "   popularity  production_companies  production_countries  release_date  \\\n",
       "0   21.946943                  3457                   652          1995   \n",
       "1   17.015539                  4452                   652          1995   \n",
       "\n",
       "       revenue  runtime  spoken_languages  vote_average  vote_count  \n",
       "0  373554033.0     81.0               411           7.7      5415.0  \n",
       "1  262797249.0    104.0               245           6.9      2413.0  "
      ]
     },
     "execution_count": 60,
     "metadata": {},
     "output_type": "execute_result"
    }
   ],
   "source": [
    "df.head(2)"
   ]
  },
  {
   "cell_type": "code",
   "execution_count": 61,
   "metadata": {},
   "outputs": [],
   "source": [
    "#converting categorical values into numerical and saving corresponding categorical values in dic\n",
    "df = d.copy(deep=True)\n",
    "cat = ['belongs_to_collection', 'genres','original_language','production_companies', 'production_countries', 'spoken_languages']\n",
    "cat_code = []\n",
    "dic = {}\n",
    "for i in cat: \n",
    "    u = df[i].unique()\n",
    "    k = np.linspace(0, 5, num=len(u))\n",
    "    cat_code += [k]\n",
    "    dic[i] = u.tolist()\n",
    "    df[i].replace(u,k, inplace = True)\n",
    "df.adult.replace([False,True],[0,1],inplace=True)\n",
    "cat = ['adult'] + cat\n",
    "d = df.copy(deep=True)"
   ]
  },
  {
   "cell_type": "code",
   "execution_count": 62,
   "metadata": {},
   "outputs": [
    {
     "name": "stdout",
     "output_type": "stream",
     "text": [
      "budget \n",
      " mean:  31094795.971380785 \n",
      " median:  17000000.0\n"
     ]
    },
    {
     "data": {
      "image/png": "[encoded data removed]",
      "text/plain": [
       "<Figure size 432x288 with 2 Axes>"
      ]
     },
     "metadata": {
      "needs_background": "light"
     },
     "output_type": "display_data"
    },
    {
     "name": "stdout",
     "output_type": "stream",
     "text": [
      "release_date \n",
      " mean:  1999.6308896989335 \n",
      " median:  2004.0\n"
     ]
    },
    {
     "name": "stderr",
     "output_type": "stream",
     "text": [
      "c:\\Users\\Utkarsh\\anaconda3.1\\envs\\hows_the_jose\\Lib\\site-packages\\matplotlib\\cbook\\__init__.py:1262: RuntimeWarning: invalid value encountered in less_equal\n",
      "  wiskhi = x[x <= hival]\n",
      "c:\\Users\\Utkarsh\\anaconda3.1\\envs\\hows_the_jose\\Lib\\site-packages\\matplotlib\\cbook\\__init__.py:1269: RuntimeWarning: invalid value encountered in greater_equal\n",
      "  wisklo = x[x >= loval]\n",
      "c:\\Users\\Utkarsh\\anaconda3.1\\envs\\hows_the_jose\\Lib\\site-packages\\matplotlib\\cbook\\__init__.py:1277: RuntimeWarning: invalid value encountered in less\n",
      "  x[x < stats['whislo']],\n",
      "c:\\Users\\Utkarsh\\anaconda3.1\\envs\\hows_the_jose\\Lib\\site-packages\\matplotlib\\cbook\\__init__.py:1278: RuntimeWarning: invalid value encountered in greater\n",
      "  x[x > stats['whishi']],\n"
     ]
    },
    {
     "data": {
      "image/png": "[encoded data removed]",
      "text/plain": [
       "<Figure size 432x288 with 2 Axes>"
      ]
     },
     "metadata": {
      "needs_background": "light"
     },
     "output_type": "display_data"
    },
    {
     "name": "stdout",
     "output_type": "stream",
     "text": [
      "runtime \n",
      " mean:  108.01788375558867 \n",
      " median:  104.0\n"
     ]
    },
    {
     "data": {
      "image/png": "[encoded data removed]",
      "text/plain": [
       "<Figure size 432x288 with 2 Axes>"
      ]
     },
     "metadata": {
      "needs_background": "light"
     },
     "output_type": "display_data"
    },
    {
     "name": "stdout",
     "output_type": "stream",
     "text": [
      "vote_average \n",
      " mean:  6.249606512890096 \n",
      " median:  6.3\n"
     ]
    },
    {
     "data": {
      "image/png": "[encoded data removed]",
      "text/plain": [
       "<Figure size 432x288 with 2 Axes>"
      ]
     },
     "metadata": {
      "needs_background": "light"
     },
     "output_type": "display_data"
    },
    {
     "name": "stdout",
     "output_type": "stream",
     "text": [
      "vote_count \n",
      " mean:  562.0702754036088 \n",
      " median:  162.0\n"
     ]
    },
    {
     "data": {
      "image/png": "[encoded data removed]",
      "text/plain": [
       "<Figure size 432x288 with 2 Axes>"
      ]
     },
     "metadata": {
      "needs_background": "light"
     },
     "output_type": "display_data"
    }
   ],
   "source": [
    "for f in num_na_features:\n",
    "    data=df.copy()\n",
    "    x = data[f]\n",
    "    x = x.replace(0, np.nan)\n",
    "    print(f, '\\n mean: ',np.mean(x), '\\n median: ', np.nanmedian(x))\n",
    "    plt.subplot(121)\n",
    "    data[f].hist()\n",
    "    plt.xlabel(f + \" abs\")\n",
    "    plt.title(f)\n",
    "    plt.subplot(122)\n",
    "    plt.boxplot(data[f], vert = False)\n",
    "    plt.ylabel(f)\n",
    "    plt.xlabel('bxxplot')\n",
    "    plt.ylabel(\"Count\")\n",
    "    plt.title(f)\n",
    "    plt.show()"
   ]
  },
  {
   "cell_type": "code",
   "execution_count": 63,
   "metadata": {},
   "outputs": [
    {
     "data": {
      "text/plain": [
       "<function matplotlib.pyplot.show(close=None, block=None)>"
      ]
     },
     "execution_count": 63,
     "metadata": {},
     "output_type": "execute_result"
    },
    {
     "data": {
      "image/png": "[encoded data removed]",
      "text/plain": [
       "<Figure size 432x288 with 1 Axes>"
      ]
     },
     "metadata": {
      "needs_background": "light"
     },
     "output_type": "display_data"
    }
   ],
   "source": [
    "d.groupby(data['release_date'])['vote_count'].mean().plot()\n",
    "plt.show"
   ]
  },
  {
   "cell_type": "code",
   "execution_count": 64,
   "metadata": {},
   "outputs": [
    {
     "data": {
      "text/html": [
       "<div>\n",
       "<style scoped>\n",
       "    .dataframe tbody tr th:only-of-type {\n",
       "        vertical-align: middle;\n",
       "    }\n",
       "\n",
       "    .dataframe tbody tr th {\n",
       "        vertical-align: top;\n",
       "    }\n",
       "\n",
       "    .dataframe thead th {\n",
       "        text-align: right;\n",
       "    }\n",
       "</style>\n",
       "<table border=\"1\" class=\"dataframe\">\n",
       "  <thead>\n",
       "    <tr style=\"text-align: right;\">\n",
       "      <th></th>\n",
       "      <th>adult</th>\n",
       "      <th>belongs_to_collection</th>\n",
       "      <th>budget</th>\n",
       "      <th>genres</th>\n",
       "      <th>original_language</th>\n",
       "      <th>popularity</th>\n",
       "      <th>production_companies</th>\n",
       "      <th>production_countries</th>\n",
       "      <th>release_date</th>\n",
       "      <th>revenue</th>\n",
       "      <th>runtime</th>\n",
       "      <th>spoken_languages</th>\n",
       "      <th>vote_average</th>\n",
       "      <th>vote_count</th>\n",
       "    </tr>\n",
       "  </thead>\n",
       "  <tbody>\n",
       "    <tr>\n",
       "      <th>0</th>\n",
       "      <td>0</td>\n",
       "      <td>0.000000</td>\n",
       "      <td>30000000</td>\n",
       "      <td>0.000000</td>\n",
       "      <td>0.0</td>\n",
       "      <td>21.946943</td>\n",
       "      <td>0.000000</td>\n",
       "      <td>0.0</td>\n",
       "      <td>1995</td>\n",
       "      <td>373554033.0</td>\n",
       "      <td>81.0</td>\n",
       "      <td>0.000000</td>\n",
       "      <td>7.7</td>\n",
       "      <td>5415.0</td>\n",
       "    </tr>\n",
       "    <tr>\n",
       "      <th>1</th>\n",
       "      <td>0</td>\n",
       "      <td>0.006684</td>\n",
       "      <td>65000000</td>\n",
       "      <td>0.003289</td>\n",
       "      <td>0.0</td>\n",
       "      <td>17.015539</td>\n",
       "      <td>0.000901</td>\n",
       "      <td>0.0</td>\n",
       "      <td>1995</td>\n",
       "      <td>262797249.0</td>\n",
       "      <td>104.0</td>\n",
       "      <td>0.006775</td>\n",
       "      <td>6.9</td>\n",
       "      <td>2413.0</td>\n",
       "    </tr>\n",
       "  </tbody>\n",
       "</table>\n",
       "</div>"
      ],
      "text/plain": [
       "   adult  belongs_to_collection    budget    genres  original_language  \\\n",
       "0      0               0.000000  30000000  0.000000                0.0   \n",
       "1      0               0.006684  65000000  0.003289                0.0   \n",
       "\n",
       "   popularity  production_companies  production_countries release_date  \\\n",
       "0   21.946943              0.000000                   0.0         1995   \n",
       "1   17.015539              0.000901                   0.0         1995   \n",
       "\n",
       "       revenue  runtime  spoken_languages  vote_average  vote_count  \n",
       "0  373554033.0     81.0          0.000000           7.7      5415.0  \n",
       "1  262797249.0    104.0          0.006775           6.9      2413.0  "
      ]
     },
     "execution_count": 64,
     "metadata": {},
     "output_type": "execute_result"
    }
   ],
   "source": [
    "d.head(2)"
   ]
  },
  {
   "cell_type": "code",
   "execution_count": 65,
   "metadata": {},
   "outputs": [
    {
     "name": "stdout",
     "output_type": "stream",
     "text": [
      "adult 0\n",
      "belongs_to_collection 0\n",
      "budget 0\n",
      "genres 0\n",
      "original_language 0\n",
      "popularity 0\n",
      "production_companies 0\n",
      "production_countries 0\n",
      "release_date 1\n",
      "revenue 0\n",
      "runtime 6\n",
      "spoken_languages 0\n",
      "vote_average 0\n",
      "vote_count 0\n"
     ]
    }
   ],
   "source": [
    "df = d.copy(deep=True)\n",
    "for i in df.columns:\n",
    "    print(i, df[i].isnull().sum())"
   ]
  },
  {
   "cell_type": "code",
   "execution_count": 66,
   "metadata": {},
   "outputs": [
    {
     "name": "stdout",
     "output_type": "stream",
     "text": [
      "0\n",
      "0\n"
     ]
    }
   ],
   "source": [
    "for i in ['runtime','release_date']:\n",
    "    d[i] = d[i].fillna(d[i].mean())\n",
    "    print(d[i].isnull().sum())"
   ]
  },
  {
   "cell_type": "code",
   "execution_count": null,
   "metadata": {},
   "outputs": [],
   "source": [
    "d.to_csv(\"cleaned.csv\",index=False)"
   ]
  }
 ],
 "metadata": {
  "kernelspec": {
   "display_name": "hows_the_jose",
   "language": "python",
   "name": "python3"
  },
  "language_info": {
   "codemirror_mode": {
    "name": "ipython",
    "version": 3
   },
   "file_extension": ".py",
   "mimetype": "text/x-python",
   "name": "python",
   "nbconvert_exporter": "python",
   "pygments_lexer": "ipython3",
   "version": "3.11.4"
  },
  "orig_nbformat": 4
 },
 "nbformat": 4,
 "nbformat_minor": 2
}
